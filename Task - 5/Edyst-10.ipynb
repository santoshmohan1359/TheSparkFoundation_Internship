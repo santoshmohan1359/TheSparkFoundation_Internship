{
 "cells": [
  {
   "cell_type": "markdown",
   "metadata": {},
   "source": [
    "Ticket & Chill\n",
    "\n",
    "Jay works for support project where he has to resolve some tickets each day (denoted by A[i]). He knows, ahead of time, the \n",
    "number of tickets for each day for N days. Let A be an array of length N.\n",
    "\n",
    "\n",
    "Each element A[i] (where i=1 to i=N) denotes number of tickets to resolve on ith day. Jay is struggling to balance his work life.\n",
    "\n",
    "\n",
    "On some days, workload is huge and on other days, it is very little. Now he can procrastinate and choose to postpone up to K \n",
    "tickets to next day. However, tickets can only be postponed once. (Refer example 2 for more clarity). Find optimal solution \n",
    "where workload can be distributed as evenly as possible with above constraints and print the maximum number of tickets he needs \n",
    "to resolve on given days.\n",
    "\n",
    "\n",
    "Constraints\n",
    "\n",
    "1<= T <= 50\n",
    "\n",
    "1<= N <= 100\n",
    "\n",
    "1<= K <= 100\n",
    "\n",
    "1<= A[i] <= 10^9\n",
    "\n",
    "Input Format\n",
    "\n",
    "First line is integer T denoting number of test cases.\n",
    "\n",
    "For each test case:\n",
    "\n",
    "First line is N K described above\n",
    "\n",
    "Next line is N spaced integers denoting number of tickets for each day\n",
    "\n",
    "Output\n",
    "\n",
    "For each test case, print a single integer per line denoting maximum number of tickets Jay needs to resolve after optimal \n",
    "rearrangement with above constraints.\n",
    "\n",
    "Example Input\n",
    "\n",
    "2\n",
    "\n",
    "3 100\n",
    "\n",
    "3 1 2\n",
    "\n",
    "3 1532\n",
    "\n",
    "28 31 37\n",
    "\n",
    "Output\n",
    "\n",
    "2\n",
    "\n",
    "37\n",
    "\n",
    "\n",
    "Explanation\n",
    "\n",
    "Initially highest workload is on first day (3 tickets). Now 1 ticket should be postponed from day 1 to day 2. So array is \n",
    "\n",
    "[2,2,2] and maximum workload is 2. For second testcase, no rearrangement is required, hence the output is 37.\n",
    "\n",
    "\n",
    "Example Input\n",
    "\n",
    "1\n",
    "\n",
    "3 100\n",
    "\n",
    "7 1 1\n",
    "\n",
    "Output:\n",
    "\n",
    "\n",
    "\n",
    "4\n",
    "\n",
    "Explanation:\n",
    "\n",
    "\n",
    "\n",
    "Initially highest workload is on first day (7 tickets). Now we postpone 4 tickets from day 1 to day 2. Array now looks like \n",
    "[3,5,1]. Now on day 2, even K is 100, we can only postpone 1 ticket since tickets can only be postponed once. (In other words, \n",
    "4 tickets out 5 which were postponed from day 1 has to be resolved on day 2. They cannot be postponed any further). So after \n",
    "postponing 1 ticket array looks like [3,4,2] and maximum workload is 4, hence answer is 4.\n",
    "\n",
    "\n"
   ]
  },
  {
   "cell_type": "code",
   "execution_count": 25,
   "metadata": {},
   "outputs": [
    {
     "name": "stdout",
     "output_type": "stream",
     "text": [
      "1\n",
      "3 100\n",
      "3 1 2\n",
      "2 [2, 2, 2]\n"
     ]
    }
   ],
   "source": [
    "t = int(input())\n",
    "for i in range(t):\n",
    "    n,k = map(int,input().split())\n",
    "    lst = list(map(int,input().split()))\n",
    "    lst1 = [0]*n\n",
    "    lst2 = lst\n",
    "    for i in range(n-1):\n",
    "        if lst[i] =< lst[i+1]:\n",
    "            lst1.append(lst[i])\n",
    "        else:\n",
    "            a = int((lst[i] - lst[i+1])/2)\n",
    "#             print(a)\n",
    "            lst2[i] = lst2[i] - a\n",
    "#             print(lst2)\n",
    "            lst2[i+1] = lst2[i+1] + a\n",
    "#             print(lst2)\n",
    "    print(max(lst2),lst2)"
   ]
  },
  {
   "cell_type": "code",
   "execution_count": 22,
   "metadata": {},
   "outputs": [
    {
     "name": "stdout",
     "output_type": "stream",
     "text": [
      "1\n",
      "3 100\n",
      "7 1 1\n",
      "4 [4, 2, 3]\n"
     ]
    }
   ],
   "source": [
    "t = int(input())\n",
    "for i in range(t):\n",
    "    n,k = map(int,input().split())\n",
    "    lst = list(map(int,input().split()))\n",
    "    lst1 = [0]*n\n",
    "    lst2 = lst\n",
    "    for i in range(n-1):\n",
    "        if lst[i] < lst[i+1]:\n",
    "            a = 1\n",
    "        else:\n",
    "            while lst2[i]>lst2[i+1]:\n",
    "                lst2[i] = lst2[i] - 1\n",
    "                lst2[i+1] = lst2[i+1] + 1\n",
    "    print(max(lst2),lst2)"
   ]
  },
  {
   "cell_type": "code",
   "execution_count": 29,
   "metadata": {},
   "outputs": [
    {
     "name": "stdout",
     "output_type": "stream",
     "text": [
      "1\n",
      "3 100\n",
      "7 1 1\n",
      "4 [4, 2, 3]\n"
     ]
    }
   ],
   "source": [
    "t = int(input())\n",
    "for i in range(t):\n",
    "    n,k = map(int,input().split())\n",
    "    lst = list(map(int,input().split()))\n",
    "    lst1 = [0]*n\n",
    "    lst2 = lst\n",
    "    for i in range(n-1):\n",
    "        if lst[i] < lst[i+1]:\n",
    "            a = 1\n",
    "        else:\n",
    "            while lst2[i]>=lst2[i+1]:\n",
    "                lst2[i] = lst2[i] - 1\n",
    "#                 print(lst2)\n",
    "                lst2[i+1] = lst2[i+1] + 1\n",
    "#                 print(lst2)\n",
    "    print(max(lst2),lst2)"
   ]
  },
  {
   "cell_type": "code",
   "execution_count": null,
   "metadata": {},
   "outputs": [],
   "source": [
    "t = int(input())\n",
    "for i in range(t):\n",
    "    n,k = map(int,input().split())\n",
    "    lst = list(map(int,input().split()))\n",
    "    lst1 = [0]*n\n",
    "    lst2 = lst\n",
    "    for i in range(n-1):\n",
    "        if lst2[i] <= lst2[i+1]:\n",
    "            a = 1\n",
    "        else:\n",
    "            while lst2[i]>=lst2[i+1]:\n",
    "                lst2[i] = lst2[i] - 1\n",
    "#                 print(lst2)\n",
    "                lst2[i+1] = lst2[i+1] + 1\n",
    "#                 print(lst2)\n",
    "    print(max(lst2),lst2)"
   ]
  }
 ],
 "metadata": {
  "kernelspec": {
   "display_name": "Python 3",
   "language": "python",
   "name": "python3"
  },
  "language_info": {
   "codemirror_mode": {
    "name": "ipython",
    "version": 3
   },
   "file_extension": ".py",
   "mimetype": "text/x-python",
   "name": "python",
   "nbconvert_exporter": "python",
   "pygments_lexer": "ipython3",
   "version": "3.7.4"
  }
 },
 "nbformat": 4,
 "nbformat_minor": 2
}
